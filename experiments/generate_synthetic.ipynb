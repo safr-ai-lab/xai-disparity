{
 "cells": [
  {
   "cell_type": "code",
   "execution_count": 1,
   "id": "1ec1f619",
   "metadata": {},
   "outputs": [],
   "source": [
    "import pandas as pd\n",
    "import numpy as np\n",
    "import random\n",
    "import math"
   ]
  },
  {
   "cell_type": "code",
   "execution_count": 2,
   "id": "78ba9121",
   "metadata": {},
   "outputs": [],
   "source": [
    "np.random.seed(0)"
   ]
  },
  {
   "cell_type": "markdown",
   "id": "8c7aa64a",
   "metadata": {},
   "source": [
    "### Generating sensitive variables\n",
    "\n",
    "The population is normally distributed around people age 50 years old. Sex and race demographics based roughly on US averages from the Census. Sex is treated as a binary, race is bucketed into white, black, hispanic, asian, and other."
   ]
  },
  {
   "cell_type": "code",
   "execution_count": 3,
   "id": "30c5b4a9",
   "metadata": {},
   "outputs": [],
   "source": [
    "def generate_base_population(size):\n",
    "    ages = np.rint(np.random.normal(50,7, size=size))\n",
    "    sex = np.random.choice(2, size)\n",
    "    race_usa = {'white': 0.6, 'hispanic': 0.18, 'black': 0.12, 'asian': .05, 'other': .05}\n",
    "    races = random.choices(list(race_usa.keys()), weights=race_usa.values(), k=size)\n",
    "    \n",
    "    s_data = {'age': ages,\n",
    "              'sex': sex,\n",
    "              'race': races}\n",
    "    df = pd.DataFrame(s_data)\n",
    "    return df"
   ]
  },
  {
   "cell_type": "markdown",
   "id": "6a5299fc",
   "metadata": {},
   "source": [
    "### Generating independent variables\n",
    "\n",
    "These are arbitrary predictive values generated independent of each other and independent of the sensitive variables."
   ]
  },
  {
   "cell_type": "code",
   "execution_count": 4,
   "id": "fc2bc52d",
   "metadata": {},
   "outputs": [
    {
     "data": {
      "text/html": [
       "<div>\n",
       "<style scoped>\n",
       "    .dataframe tbody tr th:only-of-type {\n",
       "        vertical-align: middle;\n",
       "    }\n",
       "\n",
       "    .dataframe tbody tr th {\n",
       "        vertical-align: top;\n",
       "    }\n",
       "\n",
       "    .dataframe thead th {\n",
       "        text-align: right;\n",
       "    }\n",
       "</style>\n",
       "<table border=\"1\" class=\"dataframe\">\n",
       "  <thead>\n",
       "    <tr style=\"text-align: right;\">\n",
       "      <th></th>\n",
       "      <th>x1</th>\n",
       "      <th>x2</th>\n",
       "      <th>x3</th>\n",
       "      <th>age</th>\n",
       "      <th>sex</th>\n",
       "      <th>race</th>\n",
       "    </tr>\n",
       "  </thead>\n",
       "  <tbody>\n",
       "    <tr>\n",
       "      <th>0</th>\n",
       "      <td>1</td>\n",
       "      <td>94.44</td>\n",
       "      <td>105.71</td>\n",
       "      <td>62.0</td>\n",
       "      <td>0</td>\n",
       "      <td>hispanic</td>\n",
       "    </tr>\n",
       "    <tr>\n",
       "      <th>1</th>\n",
       "      <td>0</td>\n",
       "      <td>98.38</td>\n",
       "      <td>100.05</td>\n",
       "      <td>53.0</td>\n",
       "      <td>0</td>\n",
       "      <td>white</td>\n",
       "    </tr>\n",
       "    <tr>\n",
       "      <th>2</th>\n",
       "      <td>1</td>\n",
       "      <td>98.25</td>\n",
       "      <td>101.62</td>\n",
       "      <td>57.0</td>\n",
       "      <td>0</td>\n",
       "      <td>white</td>\n",
       "    </tr>\n",
       "    <tr>\n",
       "      <th>3</th>\n",
       "      <td>1</td>\n",
       "      <td>98.14</td>\n",
       "      <td>101.81</td>\n",
       "      <td>66.0</td>\n",
       "      <td>1</td>\n",
       "      <td>white</td>\n",
       "    </tr>\n",
       "    <tr>\n",
       "      <th>4</th>\n",
       "      <td>1</td>\n",
       "      <td>90.49</td>\n",
       "      <td>110.38</td>\n",
       "      <td>63.0</td>\n",
       "      <td>1</td>\n",
       "      <td>white</td>\n",
       "    </tr>\n",
       "  </tbody>\n",
       "</table>\n",
       "</div>"
      ],
      "text/plain": [
       "   x1     x2      x3   age  sex      race\n",
       "0   1  94.44  105.71  62.0    0  hispanic\n",
       "1   0  98.38  100.05  53.0    0     white\n",
       "2   1  98.25  101.62  57.0    0     white\n",
       "3   1  98.14  101.81  66.0    1     white\n",
       "4   1  90.49  110.38  63.0    1     white"
      ]
     },
     "execution_count": 4,
     "metadata": {},
     "output_type": "execute_result"
    }
   ],
   "source": [
    "n = 4000\n",
    "df = generate_base_population(n)\n",
    "\n",
    "# Random sample trait that 50% of people have\n",
    "x1 = np.random.choice(2, n, p=[.5,.5])\n",
    "\n",
    "# Random normally distributed trait\n",
    "x2 = np.round(np.random.normal(100, 5, n),2)\n",
    "x3 = np.round(np.random.normal(100, 5, n),2)\n",
    "\n",
    "df.insert(0, \"x3\", x3, True)\n",
    "df.insert(0, \"x2\", x2, True)\n",
    "df.insert(0, \"x1\", x1, True)\n",
    "df.head()"
   ]
  },
  {
   "cell_type": "markdown",
   "id": "0596bed2",
   "metadata": {},
   "source": [
    "# Baseline Case\n",
    "\n",
    "Using variables $x_1$, $x_2$, and $x_3$ and adding some noise, generate y."
   ]
  },
  {
   "cell_type": "code",
   "execution_count": 5,
   "id": "3d1787fc",
   "metadata": {},
   "outputs": [],
   "source": [
    "def generate_outcome(row):\n",
    "    out = (.5-row['x1']) + (100-row['x2']) + (100-row['x3']) + np.random.normal(0,1)\n",
    "    return out"
   ]
  },
  {
   "cell_type": "code",
   "execution_count": 6,
   "id": "bf66b15a",
   "metadata": {},
   "outputs": [
    {
     "name": "stdout",
     "output_type": "stream",
     "text": [
      "-0.0939500435756061\n"
     ]
    }
   ],
   "source": [
    "outcomes = []\n",
    "for i in range(df.shape[0]):\n",
    "    outcomes.append(generate_outcome(df.iloc[i]))\n",
    "print(np.mean(outcomes))"
   ]
  },
  {
   "cell_type": "code",
   "execution_count": 7,
   "id": "8e0fc9f4",
   "metadata": {},
   "outputs": [],
   "source": [
    "df.insert(0, \"disease\", outcomes, True)"
   ]
  },
  {
   "cell_type": "code",
   "execution_count": 8,
   "id": "f7d7bb63",
   "metadata": {},
   "outputs": [],
   "source": [
    "def one_hot_race(df):\n",
    "    one_hot_df = pd.get_dummies(df['race'], prefix='race', drop_first=False)\n",
    "    df = pd.concat([df, one_hot_df], axis=1).drop(['race'], axis=1)\n",
    "    return df"
   ]
  },
  {
   "cell_type": "code",
   "execution_count": 9,
   "id": "52915602",
   "metadata": {},
   "outputs": [
    {
     "data": {
      "text/html": [
       "<div>\n",
       "<style scoped>\n",
       "    .dataframe tbody tr th:only-of-type {\n",
       "        vertical-align: middle;\n",
       "    }\n",
       "\n",
       "    .dataframe tbody tr th {\n",
       "        vertical-align: top;\n",
       "    }\n",
       "\n",
       "    .dataframe thead th {\n",
       "        text-align: right;\n",
       "    }\n",
       "</style>\n",
       "<table border=\"1\" class=\"dataframe\">\n",
       "  <thead>\n",
       "    <tr style=\"text-align: right;\">\n",
       "      <th></th>\n",
       "      <th>disease</th>\n",
       "      <th>x1</th>\n",
       "      <th>x2</th>\n",
       "      <th>x3</th>\n",
       "      <th>age</th>\n",
       "      <th>sex</th>\n",
       "      <th>race_asian</th>\n",
       "      <th>race_black</th>\n",
       "      <th>race_hispanic</th>\n",
       "      <th>race_other</th>\n",
       "      <th>race_white</th>\n",
       "    </tr>\n",
       "  </thead>\n",
       "  <tbody>\n",
       "    <tr>\n",
       "      <th>0</th>\n",
       "      <td>-0.065792</td>\n",
       "      <td>1</td>\n",
       "      <td>94.44</td>\n",
       "      <td>105.71</td>\n",
       "      <td>62.0</td>\n",
       "      <td>0</td>\n",
       "      <td>0</td>\n",
       "      <td>0</td>\n",
       "      <td>1</td>\n",
       "      <td>0</td>\n",
       "      <td>0</td>\n",
       "    </tr>\n",
       "    <tr>\n",
       "      <th>1</th>\n",
       "      <td>3.300917</td>\n",
       "      <td>0</td>\n",
       "      <td>98.38</td>\n",
       "      <td>100.05</td>\n",
       "      <td>53.0</td>\n",
       "      <td>0</td>\n",
       "      <td>0</td>\n",
       "      <td>0</td>\n",
       "      <td>0</td>\n",
       "      <td>0</td>\n",
       "      <td>1</td>\n",
       "    </tr>\n",
       "    <tr>\n",
       "      <th>2</th>\n",
       "      <td>-1.200286</td>\n",
       "      <td>1</td>\n",
       "      <td>98.25</td>\n",
       "      <td>101.62</td>\n",
       "      <td>57.0</td>\n",
       "      <td>0</td>\n",
       "      <td>0</td>\n",
       "      <td>0</td>\n",
       "      <td>0</td>\n",
       "      <td>0</td>\n",
       "      <td>1</td>\n",
       "    </tr>\n",
       "    <tr>\n",
       "      <th>3</th>\n",
       "      <td>1.188464</td>\n",
       "      <td>1</td>\n",
       "      <td>98.14</td>\n",
       "      <td>101.81</td>\n",
       "      <td>66.0</td>\n",
       "      <td>1</td>\n",
       "      <td>0</td>\n",
       "      <td>0</td>\n",
       "      <td>0</td>\n",
       "      <td>0</td>\n",
       "      <td>1</td>\n",
       "    </tr>\n",
       "    <tr>\n",
       "      <th>4</th>\n",
       "      <td>-3.058672</td>\n",
       "      <td>1</td>\n",
       "      <td>90.49</td>\n",
       "      <td>110.38</td>\n",
       "      <td>63.0</td>\n",
       "      <td>1</td>\n",
       "      <td>0</td>\n",
       "      <td>0</td>\n",
       "      <td>0</td>\n",
       "      <td>0</td>\n",
       "      <td>1</td>\n",
       "    </tr>\n",
       "  </tbody>\n",
       "</table>\n",
       "</div>"
      ],
      "text/plain": [
       "    disease  x1     x2      x3   age  sex  race_asian  race_black  \\\n",
       "0 -0.065792   1  94.44  105.71  62.0    0           0           0   \n",
       "1  3.300917   0  98.38  100.05  53.0    0           0           0   \n",
       "2 -1.200286   1  98.25  101.62  57.0    0           0           0   \n",
       "3  1.188464   1  98.14  101.81  66.0    1           0           0   \n",
       "4 -3.058672   1  90.49  110.38  63.0    1           0           0   \n",
       "\n",
       "   race_hispanic  race_other  race_white  \n",
       "0              1           0           0  \n",
       "1              0           0           1  \n",
       "2              0           0           1  \n",
       "3              0           0           1  \n",
       "4              0           0           1  "
      ]
     },
     "execution_count": 9,
     "metadata": {},
     "output_type": "execute_result"
    }
   ],
   "source": [
    "df = one_hot_race(df)\n",
    "df.head()"
   ]
  },
  {
   "cell_type": "code",
   "execution_count": 10,
   "id": "ed20fa94",
   "metadata": {},
   "outputs": [],
   "source": [
    "df.to_csv('../data/test_synthetic_health_base.csv', index=False)"
   ]
  },
  {
   "cell_type": "markdown",
   "id": "e1d72e3b",
   "metadata": {},
   "source": [
    "# Injected Case\n",
    "\n",
    "Injecting FID for subgroup of older, hispanic individuals."
   ]
  },
  {
   "cell_type": "code",
   "execution_count": 11,
   "id": "508a156c",
   "metadata": {},
   "outputs": [
    {
     "name": "stdout",
     "output_type": "stream",
     "text": [
      "0.13825\n"
     ]
    }
   ],
   "source": [
    "v = []\n",
    "for i in range(df.shape[0]):\n",
    "    row = df.iloc[i]\n",
    "    v.append((row['age'] + 10*row['race_hispanic']>60))\n",
    "print(np.mean(v))"
   ]
  },
  {
   "cell_type": "code",
   "execution_count": 12,
   "id": "0986fcef",
   "metadata": {},
   "outputs": [],
   "source": [
    "def in_g(row):\n",
    "    if (row['age'] + 10*row['race_hispanic']>60):\n",
    "        return True\n",
    "    else:\n",
    "        return False"
   ]
  },
  {
   "cell_type": "code",
   "execution_count": 13,
   "id": "2b216e69",
   "metadata": {},
   "outputs": [],
   "source": [
    "def generate_outcome_fid(row):\n",
    "    if in_g(row):    \n",
    "        out = (.5-row['x1']) + 50*(100-row['x2']) + (100-row['x3']) + np.random.normal(0,1)\n",
    "    else:\n",
    "        out = (.5-row['x1']) + (100-row['x2']) + (100-row['x3']) + np.random.normal(0,1)\n",
    "    return out"
   ]
  },
  {
   "cell_type": "code",
   "execution_count": 14,
   "id": "6a07c536",
   "metadata": {},
   "outputs": [],
   "source": [
    "df_fid = df.copy().drop(\"disease\", axis=1)"
   ]
  },
  {
   "cell_type": "code",
   "execution_count": 15,
   "id": "c5b86cf0",
   "metadata": {},
   "outputs": [
    {
     "name": "stdout",
     "output_type": "stream",
     "text": [
      "-2.384920963077148\n"
     ]
    }
   ],
   "source": [
    "outcomes_fid = []\n",
    "for i in range(df_fid.shape[0]):\n",
    "    outcomes_fid.append(generate_outcome_fid(df_fid.iloc[i]))\n",
    "print(np.mean(outcomes_fid))"
   ]
  },
  {
   "cell_type": "code",
   "execution_count": 16,
   "id": "4f949126",
   "metadata": {},
   "outputs": [],
   "source": [
    "df_fid.insert(0, \"disease\", outcomes_fid, True)"
   ]
  },
  {
   "cell_type": "code",
   "execution_count": 17,
   "id": "9565dafa",
   "metadata": {},
   "outputs": [],
   "source": [
    "df_fid.to_csv('../data/test_synthetic_health_fid.csv', index=False)"
   ]
  },
  {
   "cell_type": "code",
   "execution_count": null,
   "id": "1b679a97",
   "metadata": {},
   "outputs": [],
   "source": []
  }
 ],
 "metadata": {
  "kernelspec": {
   "display_name": "Python 3 (ipykernel)",
   "language": "python",
   "name": "python3"
  },
  "language_info": {
   "codemirror_mode": {
    "name": "ipython",
    "version": 3
   },
   "file_extension": ".py",
   "mimetype": "text/x-python",
   "name": "python",
   "nbconvert_exporter": "python",
   "pygments_lexer": "ipython3",
   "version": "3.7.9"
  }
 },
 "nbformat": 4,
 "nbformat_minor": 5
}
